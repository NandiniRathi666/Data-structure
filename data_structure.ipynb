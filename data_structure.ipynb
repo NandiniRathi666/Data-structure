{
  "nbformat": 4,
  "nbformat_minor": 0,
  "metadata": {
    "colab": {
      "provenance": []
    },
    "kernelspec": {
      "name": "python3",
      "display_name": "Python 3"
    },
    "language_info": {
      "name": "python"
    }
  },
  "cells": [
    {
      "cell_type": "markdown",
      "source": [
        "#data Types and structure question#\n",
        "\n",
        "\n"
      ],
      "metadata": {
        "id": "Vv4fMYpcQKqX"
      }
    },
    {
      "cell_type": "markdown",
      "source": [
        "1.  What are data structures, and why are they important\n",
        "- data structure is a way of organising data,so that it can be acessed and manipulated easily amd efficiently.\n",
        " - various types of data structure include int,float,boolean,string,list,etc.\n",
        " - They are important because we can store any  data inside these.\n",
        "2.  Explain the difference between mutable and immutable data types with examples\n",
        "- Mutable data types or variable  are those which can be changed afterwards,for example when we create a list we can change the content of list afterwards also.\n",
        " - Immutable data types or variables are those which cannot be changed once created,for ex when we create a tupple, we cannot change the content of tuple,\n",
        "3.   What are the main differences between lists and tuples in Python\n",
        "- Lists,are muttable data types,that is once we create a list,we can change the contents of list.\n",
        " - Tuple,are immutable data type,that is once we create a tuple,we cannot change the contents of tuple\n",
        ""
      ],
      "metadata": {
        "id": "jQ3b_7y3Qp_b"
      }
    },
    {
      "cell_type": "code",
      "execution_count": 2,
      "metadata": {
        "colab": {
          "base_uri": "https://localhost:8080/"
        },
        "id": "4HGCoz8_QHKX",
        "outputId": "cf422b5d-676b-4b4f-d35a-91297dbe5ad9"
      },
      "outputs": [
        {
          "output_type": "stream",
          "name": "stdout",
          "text": [
            "[1, 2, 3, 4, 5]\n",
            "[1, 2, 3, 4, 5, 6]\n"
          ]
        }
      ],
      "source": [
        "#list\n",
        "list1=[1,2,3,4,5]\n",
        "print(list1)\n",
        "list1.append(6)\n",
        "print(list1)\n"
      ]
    },
    {
      "cell_type": "code",
      "source": [
        "#tuple\n",
        "tuple1=(1,2,3,4,5)\n",
        "print(tuple1)\n",
        "tuple1.append(6)\n",
        "print(tuple1)"
      ],
      "metadata": {
        "colab": {
          "base_uri": "https://localhost:8080/",
          "height": 211
        },
        "id": "S4WDEMP9ULpg",
        "outputId": "441873ed-d89b-4d79-c6a3-54bab47ef415"
      },
      "execution_count": 3,
      "outputs": [
        {
          "output_type": "stream",
          "name": "stdout",
          "text": [
            "(1, 2, 3, 4, 5)\n"
          ]
        },
        {
          "output_type": "error",
          "ename": "AttributeError",
          "evalue": "'tuple' object has no attribute 'append'",
          "traceback": [
            "\u001b[0;31m---------------------------------------------------------------------------\u001b[0m",
            "\u001b[0;31mAttributeError\u001b[0m                            Traceback (most recent call last)",
            "\u001b[0;32m/tmp/ipython-input-3-2000449165.py\u001b[0m in \u001b[0;36m<cell line: 0>\u001b[0;34m()\u001b[0m\n\u001b[1;32m      2\u001b[0m \u001b[0mtuple1\u001b[0m\u001b[0;34m=\u001b[0m\u001b[0;34m(\u001b[0m\u001b[0;36m1\u001b[0m\u001b[0;34m,\u001b[0m\u001b[0;36m2\u001b[0m\u001b[0;34m,\u001b[0m\u001b[0;36m3\u001b[0m\u001b[0;34m,\u001b[0m\u001b[0;36m4\u001b[0m\u001b[0;34m,\u001b[0m\u001b[0;36m5\u001b[0m\u001b[0;34m)\u001b[0m\u001b[0;34m\u001b[0m\u001b[0;34m\u001b[0m\u001b[0m\n\u001b[1;32m      3\u001b[0m \u001b[0mprint\u001b[0m\u001b[0;34m(\u001b[0m\u001b[0mtuple1\u001b[0m\u001b[0;34m)\u001b[0m\u001b[0;34m\u001b[0m\u001b[0;34m\u001b[0m\u001b[0m\n\u001b[0;32m----> 4\u001b[0;31m \u001b[0mtuple1\u001b[0m\u001b[0;34m.\u001b[0m\u001b[0mappend\u001b[0m\u001b[0;34m(\u001b[0m\u001b[0;36m6\u001b[0m\u001b[0;34m)\u001b[0m\u001b[0;34m\u001b[0m\u001b[0;34m\u001b[0m\u001b[0m\n\u001b[0m\u001b[1;32m      5\u001b[0m \u001b[0mprint\u001b[0m\u001b[0;34m(\u001b[0m\u001b[0mtuple1\u001b[0m\u001b[0;34m)\u001b[0m\u001b[0;34m\u001b[0m\u001b[0;34m\u001b[0m\u001b[0m\n",
            "\u001b[0;31mAttributeError\u001b[0m: 'tuple' object has no attribute 'append'"
          ]
        }
      ]
    },
    {
      "cell_type": "markdown",
      "source": [
        "4.Describe how dictionaries store data\n",
        "- it stores the data in  the form of key-value pair.\n",
        "ex: {\"key\":\"value\"}\n",
        "5.  Why might you use a set instead of a list in Python\n",
        "- set and lists are moth immutable but we store values in sets when we want to store unique values.i.e no two valuees can be same, different values are stored in sets.and in list we can store same values also.\n"
      ],
      "metadata": {
        "id": "IqoLQQl3UTiM"
      }
    },
    {
      "cell_type": "markdown",
      "source": [
        "#set\n",
        "set1={1,2,3,1,2}\n",
        "print(set1)\n"
      ],
      "metadata": {
        "id": "CX5w4w6RVRJG"
      }
    },
    {
      "cell_type": "markdown",
      "source": [
        "6. What is a string in Python, and how is it different from a list\n",
        "- string is a sequence of character,in string we can only store the string data types.\n",
        " - List is a ordered collection of items,in which we store any data type like integer,float,string\n",
        "  "
      ],
      "metadata": {
        "id": "rZrgRSXxVdwF"
      }
    },
    {
      "cell_type": "code",
      "source": [
        "#string\n",
        "string1=[\"hello\",\"wolrd\"]\n",
        "print(string1)\n",
        "#list\n",
        "list1=[1,2,3,4,5]\n",
        "print(list1)"
      ],
      "metadata": {
        "colab": {
          "base_uri": "https://localhost:8080/"
        },
        "id": "9i2Q5rTjWpKL",
        "outputId": "2306d67a-120e-42a4-99d2-a0f2607428fd"
      },
      "execution_count": 6,
      "outputs": [
        {
          "output_type": "stream",
          "name": "stdout",
          "text": [
            "['hello', 'wolrd']\n",
            "[1, 2, 3, 4, 5]\n"
          ]
        }
      ]
    },
    {
      "cell_type": "markdown",
      "source": [
        "7.  How do tuples ensure data integrity in Python\n",
        "- tuples are immutable,that is in tuple we cannot change its content,afterward, so it is used at places where we want data to not be manipulated,so it helps in data integrity.\n",
        "8.  What is a hash table, and how does it relate to dictionaries in Python\n",
        "- A hash table is a data structure that uses a hash function to map keys to their corresponding values.similar to dictionaries it also helps in assigning key-value pair."
      ],
      "metadata": {
        "id": "nYf-ViTXXPu1"
      }
    },
    {
      "cell_type": "code",
      "source": [
        "#hash table\n",
        "hashtable = {}\n",
        "hashtable[\"key\"]=[\"value\"]\n",
        "print(hashtable)"
      ],
      "metadata": {
        "colab": {
          "base_uri": "https://localhost:8080/"
        },
        "id": "8FXzHMAPZY6y",
        "outputId": "4be72c6e-7996-4a1c-9577-d18bd5abf1ce"
      },
      "execution_count": 8,
      "outputs": [
        {
          "output_type": "stream",
          "name": "stdout",
          "text": [
            "{'key': ['value']}\n"
          ]
        }
      ]
    },
    {
      "cell_type": "markdown",
      "source": [
        "9. Can lists contain different data types in Python\n",
        "-  yes,list can contain different data types.\n",
        "ex: list1=[1,2,3,4,5,\"hello\",2.3]\n",
        "10.  Explain why strings are immutable in Python\n",
        "- strings are immutable,because once created they cannot be changed.\n",
        "\n"
      ],
      "metadata": {
        "id": "ZtjTLo8bad32"
      }
    },
    {
      "cell_type": "code",
      "source": [
        "# strings\n",
        "string1=\"hello world\"\n",
        "print(string1)\n",
        "string1[0]=\"H\"\n",
        "print(string1)"
      ],
      "metadata": {
        "colab": {
          "base_uri": "https://localhost:8080/",
          "height": 211
        },
        "id": "gCa3eufva5OK",
        "outputId": "1e452364-50e5-4816-dbaf-888e2a4b2881"
      },
      "execution_count": 9,
      "outputs": [
        {
          "output_type": "stream",
          "name": "stdout",
          "text": [
            "hello world\n"
          ]
        },
        {
          "output_type": "error",
          "ename": "TypeError",
          "evalue": "'str' object does not support item assignment",
          "traceback": [
            "\u001b[0;31m---------------------------------------------------------------------------\u001b[0m",
            "\u001b[0;31mTypeError\u001b[0m                                 Traceback (most recent call last)",
            "\u001b[0;32m/tmp/ipython-input-9-1619510033.py\u001b[0m in \u001b[0;36m<cell line: 0>\u001b[0;34m()\u001b[0m\n\u001b[1;32m      2\u001b[0m \u001b[0mstring1\u001b[0m\u001b[0;34m=\u001b[0m\u001b[0;34m\"hello world\"\u001b[0m\u001b[0;34m\u001b[0m\u001b[0;34m\u001b[0m\u001b[0m\n\u001b[1;32m      3\u001b[0m \u001b[0mprint\u001b[0m\u001b[0;34m(\u001b[0m\u001b[0mstring1\u001b[0m\u001b[0;34m)\u001b[0m\u001b[0;34m\u001b[0m\u001b[0;34m\u001b[0m\u001b[0m\n\u001b[0;32m----> 4\u001b[0;31m \u001b[0mstring1\u001b[0m\u001b[0;34m[\u001b[0m\u001b[0;36m0\u001b[0m\u001b[0;34m]\u001b[0m\u001b[0;34m=\u001b[0m\u001b[0;34m\"H\"\u001b[0m\u001b[0;34m\u001b[0m\u001b[0;34m\u001b[0m\u001b[0m\n\u001b[0m\u001b[1;32m      5\u001b[0m \u001b[0mprint\u001b[0m\u001b[0;34m(\u001b[0m\u001b[0mstring1\u001b[0m\u001b[0;34m)\u001b[0m\u001b[0;34m\u001b[0m\u001b[0;34m\u001b[0m\u001b[0m\n",
            "\u001b[0;31mTypeError\u001b[0m: 'str' object does not support item assignment"
          ]
        }
      ]
    },
    {
      "cell_type": "markdown",
      "source": [
        "11. What advantages do dictionaries offer over lists for certain tasks\n",
        "- for easy searcing of any value,dictionaries are prefered,suppose we want to search a value in dictionaries,so we can directly acsess it by it key."
      ],
      "metadata": {
        "id": "9QwY0ILqa_7C"
      }
    },
    {
      "cell_type": "code",
      "source": [
        "#dictionary\n",
        "dictionary1={\"name\":\"ram\"}\n",
        "print(dictionary1[\"name\"])"
      ],
      "metadata": {
        "colab": {
          "base_uri": "https://localhost:8080/"
        },
        "id": "8L3g1ta7b5wu",
        "outputId": "bc44cd3e-6811-4065-d3cb-b64e36d42035"
      },
      "execution_count": 10,
      "outputs": [
        {
          "output_type": "stream",
          "name": "stdout",
          "text": [
            "ram\n"
          ]
        }
      ]
    },
    {
      "cell_type": "markdown",
      "source": [
        "12.  Describe a scenario where using a tuple would be preferable over a list\n",
        "- suppose you are creating a report card of a student,and you have created a list of marks.so anyone can manipulate that list of marks,\n",
        "So in order to protect the data,tuples are ideal,hence when you create a tuple of marks,no one can access it.\n",
        "13. How do sets handle duplicate values in Python\n",
        "- set is an unique collection of elements,that is store only unique values.\n",
        "even when you add same elements in set it will return it uniqe.\n"
      ],
      "metadata": {
        "id": "14Knk5o5cEir"
      }
    },
    {
      "cell_type": "code",
      "source": [
        "#set\n",
        "set1={1,2,3,1,2}\n",
        "print(set1)"
      ],
      "metadata": {
        "colab": {
          "base_uri": "https://localhost:8080/"
        },
        "id": "OBIc_XKNdfxe",
        "outputId": "64ea4a91-8822-4b17-d049-3364a7b3b20d"
      },
      "execution_count": 11,
      "outputs": [
        {
          "output_type": "stream",
          "name": "stdout",
          "text": [
            "{1, 2, 3}\n"
          ]
        }
      ]
    },
    {
      "cell_type": "markdown",
      "source": [
        "14.  How does the “in” keyword work differently for lists and dictionaries.\n",
        "- for list, the in keyword checks if a given value exists as an element of the list.\n",
        " - For dictionaries, the in keyword checks only for the presence of a key, not a value. If you want to check for a value, you need to use the values() method explicitly.\n",
        "  - ex:"
      ],
      "metadata": {
        "id": "V-S8ACz7djp1"
      }
    },
    {
      "cell_type": "code",
      "source": [
        "# in list\n",
        "list1=[1,2,3,4,5]\n",
        "print(1 in list1)\n",
        "# in dictionary\n",
        "dictionary1={\"name\":\"ram\"}\n",
        "print(\"name\" in dictionary1)"
      ],
      "metadata": {
        "colab": {
          "base_uri": "https://localhost:8080/"
        },
        "id": "IgrN1KF1en1M",
        "outputId": "a5940111-4cc3-44c0-ff8d-728b9d6d48d3"
      },
      "execution_count": 12,
      "outputs": [
        {
          "output_type": "stream",
          "name": "stdout",
          "text": [
            "True\n",
            "True\n"
          ]
        }
      ]
    },
    {
      "cell_type": "markdown",
      "source": [
        "15. Can you modify the elements of a tuple? Explain why or why not\n",
        "- No we cannot modify elemnts of tuple. beacuse tuples are immutable that is they cannot be changed once created.\n",
        "16. What is a nested dictionary, and give an example of its use case\n",
        "- A nested dictionary i is a dictionary inside another dictionary. This allows you to store complex data structures in a single dictionary"
      ],
      "metadata": {
        "id": "1i4f10W4ezUc"
      }
    },
    {
      "cell_type": "code",
      "source": [
        "#ex.\n",
        "nested_dict = {\n",
        "    \"1st outer_key\": {\"inner_key\": \"inner_value\"},\n",
        "    \"2nd outer_key\": {\"inner_key\": \"inner_value\"}\n",
        "}\n",
        "print(nested_dict)"
      ],
      "metadata": {
        "colab": {
          "base_uri": "https://localhost:8080/"
        },
        "id": "dzACHD7-Z4Ku",
        "outputId": "3d624bc6-1169-45be-8805-8c817022ff6a"
      },
      "execution_count": 16,
      "outputs": [
        {
          "output_type": "stream",
          "name": "stdout",
          "text": [
            "{'1st outer_key': {'inner_key': 'inner_value'}, '2nd outer_key': {'inner_key': 'inner_value'}}\n"
          ]
        }
      ]
    },
    {
      "cell_type": "markdown",
      "source": [
        "18. In what situations are lists preferred over dictionaries\n",
        "- list is an ordered collection of elements,hence we can access the elements of list by its index,hence it is perfect in loops when we perform iterations over elemnts.\n",
        "19. Why are dictionaries considered unordered, and how does that affect data retrieval\n",
        "- Dictionaries  are often referred to as unordered collections because they do not guarantee any specific order of their elements based on insertion or key values.\n",
        " -  so Unlike lists or tuples, dictionaries do not allow access by index. Instead, you retrieve values using their associated keys."
      ],
      "metadata": {
        "id": "MpMklH3MhQzA"
      }
    },
    {
      "cell_type": "code",
      "source": [
        "# dictionary>> retrieving value\n",
        "dictionary1={\"name\":\"ram\"}\n",
        "print(dictionary1[\"name\"])"
      ],
      "metadata": {
        "colab": {
          "base_uri": "https://localhost:8080/"
        },
        "id": "C5qobGYRkUdB",
        "outputId": "7729d53f-eaa0-4a05-e687-2133e8a6a74f"
      },
      "execution_count": 17,
      "outputs": [
        {
          "output_type": "stream",
          "name": "stdout",
          "text": [
            "ram\n"
          ]
        }
      ]
    },
    {
      "cell_type": "markdown",
      "source": [
        "20. Explain the difference between a list and a dictionary in terms of data retrieval.\n",
        "- list is an ordered collection of elements,so inn list we can access elements directly using their specific index.\n",
        "- dictionary is an unordered collecction of elements, unlike list we cannot access elements using their index,so in dictionary data is retrieved using the specific key of a value.\n",
        "\n"
      ],
      "metadata": {
        "id": "WHfkJ6l3kqtX"
      }
    },
    {
      "cell_type": "code",
      "source": [
        "#list\n",
        "list1=[1,2,3,4,5]\n",
        "print(list1[0])\n",
        "#dictionary\n",
        "dictionary1={\"name\":\"ram\"}\n",
        "print(dictionary1[\"name\"])"
      ],
      "metadata": {
        "colab": {
          "base_uri": "https://localhost:8080/"
        },
        "id": "nxLd6W-Mlv2R",
        "outputId": "7519cda6-cff6-4305-d832-17c84172113f"
      },
      "execution_count": 18,
      "outputs": [
        {
          "output_type": "stream",
          "name": "stdout",
          "text": [
            "1\n",
            "ram\n"
          ]
        }
      ]
    },
    {
      "cell_type": "markdown",
      "source": [
        "##practical question\n"
      ],
      "metadata": {
        "id": "5kgXIv0Wlzxz"
      }
    },
    {
      "cell_type": "code",
      "source": [
        "#1.  Write a code to create a string with your name and print it\n",
        "string=[\"Nandini\"]\n",
        "print(string)\n"
      ],
      "metadata": {
        "colab": {
          "base_uri": "https://localhost:8080/"
        },
        "id": "Pg1FxJy6l7Go",
        "outputId": "d8acf53f-bc2a-4c73-cbef-86e2513d4a00"
      },
      "execution_count": 19,
      "outputs": [
        {
          "output_type": "stream",
          "name": "stdout",
          "text": [
            "['Nandini']\n"
          ]
        }
      ]
    },
    {
      "cell_type": "code",
      "source": [
        "#2.  Write a code to find the length of the string \"Hello World\"\n",
        "string=\"Hello World\"\n",
        "print(len(string))"
      ],
      "metadata": {
        "colab": {
          "base_uri": "https://localhost:8080/"
        },
        "id": "4fd8kwjlmPKk",
        "outputId": "55585f73-70c7-4fc0-eb0d-389387450677"
      },
      "execution_count": 22,
      "outputs": [
        {
          "output_type": "stream",
          "name": "stdout",
          "text": [
            "11\n"
          ]
        }
      ]
    },
    {
      "cell_type": "code",
      "source": [
        "#3. Write a code to slice the first 3 characters from the string \"Python Programming\"\n",
        "string=\"Python Programming\"\n",
        "print(string[0:3])"
      ],
      "metadata": {
        "colab": {
          "base_uri": "https://localhost:8080/"
        },
        "id": "Rv98LhzcmVfK",
        "outputId": "6af2ddf5-6575-474b-ab3e-2df4c2df1b45"
      },
      "execution_count": 21,
      "outputs": [
        {
          "output_type": "stream",
          "name": "stdout",
          "text": [
            "Pyt\n"
          ]
        }
      ]
    },
    {
      "cell_type": "code",
      "source": [
        "#4.  Write a code to convert the string \"hello\" to uppercase\n",
        "string=\"hello\"\n",
        "print(string.upper())"
      ],
      "metadata": {
        "colab": {
          "base_uri": "https://localhost:8080/"
        },
        "id": "uWhrq_jwmdMC",
        "outputId": "1180b2b7-0b4b-4c33-9c89-aab65955b17f"
      },
      "execution_count": 23,
      "outputs": [
        {
          "output_type": "stream",
          "name": "stdout",
          "text": [
            "HELLO\n"
          ]
        }
      ]
    },
    {
      "cell_type": "code",
      "source": [
        "#5. Write a code to replace the word \"apple\" with \"orange\" in the string \"I like apple\"\n",
        "string=\"I like apple\"\n",
        "print(string.replace(\"apple\",\"orange\"))"
      ],
      "metadata": {
        "colab": {
          "base_uri": "https://localhost:8080/"
        },
        "id": "fbjp-JPLmk9O",
        "outputId": "87e3d01d-dc62-4606-a1e0-a8b7e1cbb943"
      },
      "execution_count": 24,
      "outputs": [
        {
          "output_type": "stream",
          "name": "stdout",
          "text": [
            "I like orange\n"
          ]
        }
      ]
    },
    {
      "cell_type": "code",
      "source": [
        "#6. Write a code to create a list with numbers 1 to 5 and print it\n",
        "list1=[1,2,3,4,5]\n",
        "print(list1)"
      ],
      "metadata": {
        "colab": {
          "base_uri": "https://localhost:8080/"
        },
        "id": "OpuIV4BCmrnf",
        "outputId": "f3b2bac1-c377-42be-bf75-e65a02e547de"
      },
      "execution_count": 25,
      "outputs": [
        {
          "output_type": "stream",
          "name": "stdout",
          "text": [
            "[1, 2, 3, 4, 5]\n"
          ]
        }
      ]
    },
    {
      "cell_type": "code",
      "source": [
        "#7 Write a code to append the number 10 to the list [1, 2, 3, 4]\n",
        "list1=[1,2,3,4]\n",
        "list1.append(10)\n",
        "print(list1)"
      ],
      "metadata": {
        "colab": {
          "base_uri": "https://localhost:8080/"
        },
        "id": "VzY67qo0myHs",
        "outputId": "b6c35109-9022-4396-c3aa-38c9856bf3d4"
      },
      "execution_count": 26,
      "outputs": [
        {
          "output_type": "stream",
          "name": "stdout",
          "text": [
            "[1, 2, 3, 4, 10]\n"
          ]
        }
      ]
    },
    {
      "cell_type": "code",
      "source": [
        "#8. Write a code to remove the number 3 from the list [1, 2, 3, 4, 5]\n",
        "list1=[1,2,3,4,5]\n",
        "list1.remove(3)\n",
        "print(list1)"
      ],
      "metadata": {
        "colab": {
          "base_uri": "https://localhost:8080/"
        },
        "id": "TJas_BcLhC5y",
        "outputId": "29991ac3-4a75-4e65-82ed-9d8f27d35645"
      },
      "execution_count": 27,
      "outputs": [
        {
          "output_type": "stream",
          "name": "stdout",
          "text": [
            "[1, 2, 4, 5]\n"
          ]
        }
      ]
    },
    {
      "cell_type": "code",
      "source": [
        "#9  Write a code to access the second element in the list ['a', 'b', 'c', 'd']\n",
        "list1=['a', 'b', 'c', 'd']\n",
        "print(list1[1])"
      ],
      "metadata": {
        "colab": {
          "base_uri": "https://localhost:8080/"
        },
        "id": "GEAKoFdknGIk",
        "outputId": "35de1755-e7dd-4c2b-f669-7de34ea11c94"
      },
      "execution_count": 28,
      "outputs": [
        {
          "output_type": "stream",
          "name": "stdout",
          "text": [
            "b\n"
          ]
        }
      ]
    },
    {
      "cell_type": "code",
      "source": [
        "#10. Write a code to reverse the list [10, 20, 30, 40, 50].\n",
        "list1=[10, 20, 30, 40, 50]\n",
        "print(list1[::-1])"
      ],
      "metadata": {
        "colab": {
          "base_uri": "https://localhost:8080/"
        },
        "id": "hw6oJO9tnPUU",
        "outputId": "a9673917-df49-4c94-8937-722225b64849"
      },
      "execution_count": 29,
      "outputs": [
        {
          "output_type": "stream",
          "name": "stdout",
          "text": [
            "[50, 40, 30, 20, 10]\n"
          ]
        }
      ]
    },
    {
      "cell_type": "code",
      "source": [
        "#11. Write a code to create a tuple with the elements 100, 200, 300 and print it\n",
        "tuple1=(100,200,300)\n",
        "print(tuple1)"
      ],
      "metadata": {
        "colab": {
          "base_uri": "https://localhost:8080/"
        },
        "id": "EYBbSVzFnSlD",
        "outputId": "858316f0-27f1-4981-af17-8bb3f6f99b09"
      },
      "execution_count": 30,
      "outputs": [
        {
          "output_type": "stream",
          "name": "stdout",
          "text": [
            "(100, 200, 300)\n"
          ]
        }
      ]
    },
    {
      "cell_type": "code",
      "source": [
        "#12. Write a code to access the second-to-last element of the tuple ('red', 'green', 'blue', 'yellow').\n",
        "tuple1=('red', 'green', 'blue', 'yellow')\n",
        "print(tuple1[1:5])\n"
      ],
      "metadata": {
        "colab": {
          "base_uri": "https://localhost:8080/"
        },
        "id": "mTZekDm-XPZH",
        "outputId": "c4d3aed0-3fd4-42fd-b351-db579c1d54d0"
      },
      "execution_count": 32,
      "outputs": [
        {
          "output_type": "stream",
          "name": "stdout",
          "text": [
            "('green', 'blue', 'yellow')\n"
          ]
        }
      ]
    },
    {
      "cell_type": "code",
      "source": [],
      "metadata": {
        "id": "oNhedz1FoBd9"
      },
      "execution_count": null,
      "outputs": []
    },
    {
      "cell_type": "code",
      "source": [
        "# 13.Write a code to find the minimum number in the tuple (10, 20, 5, 15).\n",
        "tuple1=(10, 20, 5, 15)\n",
        "print(min(tuple1))\n"
      ],
      "metadata": {
        "colab": {
          "base_uri": "https://localhost:8080/"
        },
        "id": "r1xROSY4n9TL",
        "outputId": "9007565e-f6ed-4af7-aed7-fecf625ad593"
      },
      "execution_count": 33,
      "outputs": [
        {
          "output_type": "stream",
          "name": "stdout",
          "text": [
            "5\n"
          ]
        }
      ]
    },
    {
      "cell_type": "code",
      "source": [
        "# 14. Write a code to find the index of the element \"cat\" in the tuple ('dog', 'cat', 'rabbit').\n",
        "tuple1=(\"dog\",\"cat\",\"rabbit\")\n",
        "print(tuple1.index(\"cat\"))"
      ],
      "metadata": {
        "colab": {
          "base_uri": "https://localhost:8080/"
        },
        "id": "_0Kbz0D5oI1H",
        "outputId": "339522c4-4acb-4475-d898-68fc42dd4806"
      },
      "execution_count": 35,
      "outputs": [
        {
          "output_type": "stream",
          "name": "stdout",
          "text": [
            "1\n"
          ]
        }
      ]
    },
    {
      "cell_type": "code",
      "source": [
        "# 15. Write a code to create a tuple containing three different fruits and check if \"kiwi\" is in it\n",
        "tuple1=(\"apple\",\"banana\",\"kiwi\")\n",
        "print(\"kiwi\" in tuple1)"
      ],
      "metadata": {
        "colab": {
          "base_uri": "https://localhost:8080/"
        },
        "id": "sF0WRN_ioWqU",
        "outputId": "26832d73-1fed-473d-a1fc-5952a05bab92"
      },
      "execution_count": 36,
      "outputs": [
        {
          "output_type": "stream",
          "name": "stdout",
          "text": [
            "True\n"
          ]
        }
      ]
    },
    {
      "cell_type": "code",
      "source": [
        "#16 Write a code to create a set with the elements 'a', 'b', 'c' and print it.\n",
        "set1={\"a\",\"b\",\"c\"}\n",
        "print(set1)"
      ],
      "metadata": {
        "colab": {
          "base_uri": "https://localhost:8080/"
        },
        "id": "7X7-eSp5oceX",
        "outputId": "e99f5729-3c3a-4f69-f8d2-c7f273b6d851"
      },
      "execution_count": 37,
      "outputs": [
        {
          "output_type": "stream",
          "name": "stdout",
          "text": [
            "{'b', 'c', 'a'}\n"
          ]
        }
      ]
    },
    {
      "cell_type": "code",
      "source": [
        "#17 Write a code to clear all elements from the set {1, 2, 3, 4, 5}.\n",
        "set1={1,2,3,4,5}\n",
        "set1.clear()\n",
        "print(set1)"
      ],
      "metadata": {
        "colab": {
          "base_uri": "https://localhost:8080/"
        },
        "id": "YzSrhVDCouHR",
        "outputId": "ac186b51-ba86-479a-db54-05ff0747005b"
      },
      "execution_count": 38,
      "outputs": [
        {
          "output_type": "stream",
          "name": "stdout",
          "text": [
            "set()\n"
          ]
        }
      ]
    },
    {
      "cell_type": "code",
      "source": [
        "#18  18. Write a code to remove the element 4 from the set {1, 2, 3, 4}.\n",
        "set1={1,2,3,4}\n",
        "set1.remove(4)\n",
        "print(set1)"
      ],
      "metadata": {
        "colab": {
          "base_uri": "https://localhost:8080/"
        },
        "id": "dkaNX71Ro1fK",
        "outputId": "bd925bea-f833-4775-b7fd-3c131a61342c"
      },
      "execution_count": 39,
      "outputs": [
        {
          "output_type": "stream",
          "name": "stdout",
          "text": [
            "{1, 2, 3}\n"
          ]
        }
      ]
    },
    {
      "cell_type": "code",
      "source": [
        "#19.Write a code to find the union of two sets {1, 2, 3} and {3, 4, 5}\n",
        "set1={1,2,3}\n",
        "set2={3,4,5}\n",
        "set1 = set1.union(set2)\n",
        "print(set1)"
      ],
      "metadata": {
        "colab": {
          "base_uri": "https://localhost:8080/"
        },
        "id": "KY0O-GRKpKJ7",
        "outputId": "8b7a1d3b-ea3c-44a2-a5f1-ea48a567a8fd"
      },
      "execution_count": 40,
      "outputs": [
        {
          "output_type": "stream",
          "name": "stdout",
          "text": [
            "{1, 2, 3, 4, 5}\n"
          ]
        }
      ]
    },
    {
      "cell_type": "code",
      "source": [
        "#  20. Write a code to find the intersection of two sets {1, 2, 3} and {2, 3, 4}\n",
        "set1={1,2,3}\n",
        "set2={2,3,4}\n",
        "set1 = set1.intersection(set2)\n",
        "print(set1)"
      ],
      "metadata": {
        "colab": {
          "base_uri": "https://localhost:8080/"
        },
        "id": "5BTVQQ-BpY2l",
        "outputId": "a1e0ba79-1cad-4f0a-ee26-32a66c0fd5fa"
      },
      "execution_count": 41,
      "outputs": [
        {
          "output_type": "stream",
          "name": "stdout",
          "text": [
            "{2, 3}\n"
          ]
        }
      ]
    },
    {
      "cell_type": "code",
      "source": [
        "# 21 Write a code to create a dictionary with the keys \"name\", \"age\", and \"city\", and print it.\n",
        "dictionary1={\"name\":\"ram\",\"age\":20,\"city\":\"delhi\"}\n",
        "print(dictionary1)"
      ],
      "metadata": {
        "colab": {
          "base_uri": "https://localhost:8080/"
        },
        "id": "NFKrm4zwpe1g",
        "outputId": "4f6dbfc8-ad21-4155-bece-859914739753"
      },
      "execution_count": 42,
      "outputs": [
        {
          "output_type": "stream",
          "name": "stdout",
          "text": [
            "{'name': 'ram', 'age': 20, 'city': 'delhi'}\n"
          ]
        }
      ]
    },
    {
      "cell_type": "code",
      "source": [
        "# 22. Write a code to add a new key-value pair \"country\": \"USA\" to the dictionary {'name': 'John', 'age': 25}.\n",
        "dictionary1={\"name\":\"John\",\"age\":20,\"city\":\"delhi\"}\n",
        "dictionary1[\"country\"]=\"USA\"\n",
        "print(dictionary1)"
      ],
      "metadata": {
        "colab": {
          "base_uri": "https://localhost:8080/"
        },
        "id": "75lIKBLupmd7",
        "outputId": "8e241a49-af9e-4d45-c0b9-b56e7845f4ee"
      },
      "execution_count": 46,
      "outputs": [
        {
          "output_type": "stream",
          "name": "stdout",
          "text": [
            "{'name': 'John', 'age': 20, 'city': 'delhi', 'country': 'USA'}\n"
          ]
        }
      ]
    },
    {
      "cell_type": "code",
      "source": [
        "#23. Write a code to access the value associated with the key \"name\" in the dictionary {'name': 'Alice', 'age': 30}\n",
        "dictionary1={\"name\":\"Alice\",\"age\":20,\"city\":\"delhi\"}\n",
        "print(dictionary1[\"name\"])"
      ],
      "metadata": {
        "colab": {
          "base_uri": "https://localhost:8080/"
        },
        "id": "P5cvJTDwpsso",
        "outputId": "c96d3cb2-00b6-46dc-d3c9-a5bb35c9613e"
      },
      "execution_count": 47,
      "outputs": [
        {
          "output_type": "stream",
          "name": "stdout",
          "text": [
            "Alice\n"
          ]
        }
      ]
    },
    {
      "cell_type": "code",
      "source": [
        "# 24. Write a code to remove the key \"age\" from the dictionary {'name': 'Bob', 'age': 22, 'city': 'New York'}\n",
        "dictionary1={\"name\":\"Bob\",\"age\":22,\"city\":\"New York\"}\n",
        "dictionary1.pop(\"age\")\n",
        "print(dictionary1)"
      ],
      "metadata": {
        "colab": {
          "base_uri": "https://localhost:8080/"
        },
        "id": "jqieWQK4pxC2",
        "outputId": "2668e5da-7839-4706-e400-e5e0a24dd91a"
      },
      "execution_count": 48,
      "outputs": [
        {
          "output_type": "stream",
          "name": "stdout",
          "text": [
            "{'name': 'Bob', 'city': 'New York'}\n"
          ]
        }
      ]
    },
    {
      "cell_type": "code",
      "source": [
        "# 25. Write a code to check if the key \"city\" exists in the dictionary {'name': 'Alice', 'city': 'Paris'}.\n",
        "dictionary1={\"name\":\"Alice\",\"city\":\"Paris\"}\n",
        "print(\"city\" in dictionary1)"
      ],
      "metadata": {
        "colab": {
          "base_uri": "https://localhost:8080/"
        },
        "id": "q-0GzgsYqJM5",
        "outputId": "a370ceee-15e2-4830-cd31-bdc4b8369f64"
      },
      "execution_count": 49,
      "outputs": [
        {
          "output_type": "stream",
          "name": "stdout",
          "text": [
            "True\n"
          ]
        }
      ]
    },
    {
      "cell_type": "code",
      "source": [
        "#  26. Write a code to create a list, a tuple, and a dictionary, and print them all.\n",
        "list1=[1,2,3,4,5]\n",
        "print(list1)\n",
        "tuple1=(1,2,3,4,5)\n",
        "print(tuple1)\n",
        "dictionary1={\"name\":\"ram\"}\n",
        "print(dictionary1)"
      ],
      "metadata": {
        "colab": {
          "base_uri": "https://localhost:8080/"
        },
        "id": "sHJTB0Vup_1r",
        "outputId": "d06d58b7-dd00-4973-9d4d-bfb1339a65ec"
      },
      "execution_count": 50,
      "outputs": [
        {
          "output_type": "stream",
          "name": "stdout",
          "text": [
            "[1, 2, 3, 4, 5]\n",
            "(1, 2, 3, 4, 5)\n",
            "{'name': 'ram'}\n"
          ]
        }
      ]
    },
    {
      "cell_type": "code",
      "source": [
        "#27. Write a code to create a list of 5 random numbers between 1 and 100, sort it in ascending order, and print the result.(replaced)\n",
        "import random\n",
        "list1=random.sample(range(1,101),5)\n",
        "list1.sort()\n",
        "print(list1)"
      ],
      "metadata": {
        "colab": {
          "base_uri": "https://localhost:8080/"
        },
        "id": "aGTUCe-dqbPH",
        "outputId": "cc792be2-49e1-47b7-ba9d-3fba6b15159c"
      },
      "execution_count": 55,
      "outputs": [
        {
          "output_type": "stream",
          "name": "stdout",
          "text": [
            "[29, 37, 63, 68, 86]\n"
          ]
        }
      ]
    },
    {
      "cell_type": "code",
      "source": [
        "#28.Write a code to create a list with strings and print the element at the third index\n",
        "list1=[\"apple\",\"banana\",\"kiwi\"]\n",
        "print(list1[2])"
      ],
      "metadata": {
        "id": "295ksW5jsBav",
        "outputId": "65de5a00-79f9-4dd5-c45b-53d4ebc1dc49",
        "colab": {
          "base_uri": "https://localhost:8080/"
        }
      },
      "execution_count": 56,
      "outputs": [
        {
          "output_type": "stream",
          "name": "stdout",
          "text": [
            "kiwi\n"
          ]
        }
      ]
    },
    {
      "cell_type": "code",
      "source": [
        "#29 Write a code to combine two dictionaries into one and print the result.\n",
        "dictionary1={\"name\":\"ram\"}\n",
        "dictionary2={\"age\":20}\n",
        "dictionary1.update(dictionary2)\n",
        "print(dictionary1)"
      ],
      "metadata": {
        "id": "W5nR3mojsHt-",
        "outputId": "c44909c9-0b4a-432a-d440-a81d19c7e471",
        "colab": {
          "base_uri": "https://localhost:8080/"
        }
      },
      "execution_count": 57,
      "outputs": [
        {
          "output_type": "stream",
          "name": "stdout",
          "text": [
            "{'name': 'ram', 'age': 20}\n"
          ]
        }
      ]
    },
    {
      "cell_type": "code",
      "source": [
        "#30 Write a code to convert a list of strings into a set.\n",
        "list1=[\"apple\",\"banana\",\"kiwi\"]\n",
        "set1=set(list1)\n",
        "print(set1)"
      ],
      "metadata": {
        "id": "XoBB9ULlsPED",
        "outputId": "5eeaea73-18bf-4c60-80b2-8f1dac0e6a60",
        "colab": {
          "base_uri": "https://localhost:8080/"
        }
      },
      "execution_count": 58,
      "outputs": [
        {
          "output_type": "stream",
          "name": "stdout",
          "text": [
            "{'kiwi', 'banana', 'apple'}\n"
          ]
        }
      ]
    }
  ]
}